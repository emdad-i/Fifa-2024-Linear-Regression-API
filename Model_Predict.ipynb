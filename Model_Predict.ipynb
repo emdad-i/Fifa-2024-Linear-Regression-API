{
 "cells": [
  {
   "cell_type": "code",
   "execution_count": 4,
   "id": "151c493b",
   "metadata": {},
   "outputs": [],
   "source": [
    "import pickle\n",
    "from sklearn import linear_model\n",
    "import pandas as pd"
   ]
  },
  {
   "cell_type": "code",
   "execution_count": 13,
   "id": "243be4f8",
   "metadata": {},
   "outputs": [],
   "source": [
    "lm = loaded_model = pickle.load(open('model/model_1.pickle', 'rb'))"
   ]
  },
  {
   "cell_type": "code",
   "execution_count": null,
   "id": "59d723c6",
   "metadata": {},
   "outputs": [
    {
     "ename": "SyntaxError",
     "evalue": "cannot assign to literal here. Maybe you meant '==' instead of '='? (259158537.py, line 1)",
     "output_type": "error",
     "traceback": [
      "  \u001b[36mCell\u001b[39m\u001b[36m \u001b[39m\u001b[32mIn[12]\u001b[39m\u001b[32m, line 1\u001b[39m\n\u001b[31m    \u001b[39m\u001b[31mnew_data = pd.DataFrame(data={'attacking_heading_accuracy'=10,'skill_ball_control'=10,'movement_acceleration'=10,'movement_agility'=10,'movement_reactions'=10,'mentality_composure'=10,'goalkeeping_kicking'=10,'goalkeeping_positioning'=10})\u001b[39m\n                                  ^\n\u001b[31mSyntaxError\u001b[39m\u001b[31m:\u001b[39m cannot assign to literal here. Maybe you meant '==' instead of '='?\n"
     ]
    }
   ],
   "source": [
    "new_data = pd.DataFrame(data={'attacking_heading_accuracy':10,\n",
    "                              'skill_ball_control':10,\n",
    "                              'movement_acceleration':10,\n",
    "                              'movement_agility':10,\n",
    "                              'movement_reactions':10,\n",
    "                              'mentality_composure':10,\n",
    "                              'goalkeeping_kicking':10,\n",
    "                              'goalkeeping_positioning':10})\n",
    "#lm.predict(new_data)"
   ]
  },
  {
   "cell_type": "code",
   "execution_count": 7,
   "id": "f084612c",
   "metadata": {},
   "outputs": [
    {
     "ename": "NameError",
     "evalue": "name 'new_data' is not defined",
     "output_type": "error",
     "traceback": [
      "\u001b[31m---------------------------------------------------------------------------\u001b[39m",
      "\u001b[31mNameError\u001b[39m                                 Traceback (most recent call last)",
      "\u001b[36mCell\u001b[39m\u001b[36m \u001b[39m\u001b[32mIn[7]\u001b[39m\u001b[32m, line 1\u001b[39m\n\u001b[32m----> \u001b[39m\u001b[32m1\u001b[39m \u001b[43mnew_data\u001b[49m\n",
      "\u001b[31mNameError\u001b[39m: name 'new_data' is not defined"
     ]
    }
   ],
   "source": [
    "new_data"
   ]
  },
  {
   "cell_type": "code",
   "execution_count": null,
   "id": "860d0e15",
   "metadata": {},
   "outputs": [],
   "source": []
  }
 ],
 "metadata": {
  "kernelspec": {
   "display_name": ".venv",
   "language": "python",
   "name": "python3"
  },
  "language_info": {
   "codemirror_mode": {
    "name": "ipython",
    "version": 3
   },
   "file_extension": ".py",
   "mimetype": "text/x-python",
   "name": "python",
   "nbconvert_exporter": "python",
   "pygments_lexer": "ipython3",
   "version": "3.12.9"
  }
 },
 "nbformat": 4,
 "nbformat_minor": 5
}
