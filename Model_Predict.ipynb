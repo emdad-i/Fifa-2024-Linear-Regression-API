{
 "cells": [
  {
   "cell_type": "code",
   "execution_count": 4,
   "id": "151c493b",
   "metadata": {},
   "outputs": [],
   "source": [
    "import pickle\n",
    "from sklearn import linear_model\n",
    "import pandas as pd"
   ]
  },
  {
   "cell_type": "code",
   "execution_count": 13,
   "id": "243be4f8",
   "metadata": {},
   "outputs": [],
   "source": [
    "lm = loaded_model = pickle.load(open('model/model_1.pickle', 'rb'))"
   ]
  },
  {
   "cell_type": "code",
   "execution_count": 22,
   "id": "59d723c6",
   "metadata": {},
   "outputs": [
    {
     "data": {
      "text/plain": [
       "array([7999.3042744])"
      ]
     },
     "execution_count": 22,
     "metadata": {},
     "output_type": "execute_result"
    }
   ],
   "source": [
    "new_data = pd.DataFrame(data={'attacking_heading_accuracy':[100],\n",
    "                              'skill_ball_control':[100],\n",
    "                              'movement_acceleration':[100],\n",
    "                              'movement_agility':[10],\n",
    "                              'movement_reactions':[10],\n",
    "                              'mentality_composure':[10],\n",
    "                              'goalkeeping_kicking':[100],\n",
    "                              'goalkeeping_positioning':[10]})\n",
    "lm.predict(new_data)"
   ]
  }
 ],
 "metadata": {
  "kernelspec": {
   "display_name": ".venv",
   "language": "python",
   "name": "python3"
  },
  "language_info": {
   "codemirror_mode": {
    "name": "ipython",
    "version": 3
   },
   "file_extension": ".py",
   "mimetype": "text/x-python",
   "name": "python",
   "nbconvert_exporter": "python",
   "pygments_lexer": "ipython3",
   "version": "3.12.9"
  }
 },
 "nbformat": 4,
 "nbformat_minor": 5
}
